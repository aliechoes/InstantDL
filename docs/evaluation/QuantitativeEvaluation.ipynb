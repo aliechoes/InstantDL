{
 "cells": [
  {
   "cell_type": "markdown",
   "metadata": {},
   "source": [
    "# With this notebook you can quantitatively evaluate your deep learning performance"
   ]
  },
  {
   "cell_type": "code",
   "execution_count": 15,
   "metadata": {},
   "outputs": [],
   "source": [
    "import os, fnmatch\n",
    "import SimpleITK as sitk\n",
    "import numpy as np\n",
    "import scipy as sp\n",
    "from scipy import ndimage as nd\n",
    "import matplotlib.pyplot as plt\n",
    "plt.rcParams[\"font.family\"] = \"Computer Modern Roman\"\n",
    "import matplotlib as mpl\n",
    "from matplotlib import ticker, cm\n",
    "from skimage.measure import compare_ssim as ssim\n",
    "from scipy.stats import pearsonr\n",
    "import copy\n",
    "from matplotlib.colorbar import Colorbar\n",
    "from scipy.spatial.distance import jaccard\n",
    "from sklearn.metrics import adjusted_rand_score as rand\n",
    "from sklearn.metrics import mutual_info_score as infoscore\n",
    "from sklearn.metrics import roc_curve, auc"
   ]
  },
  {
   "cell_type": "code",
   "execution_count": 16,
   "metadata": {},
   "outputs": [],
   "source": [
    "root_dir = \"./InstantDL/examples/data/Ouncomol_NucEnvelope_3Dnew/\"\n",
    "#root_dir = \"/media/dominik/FertExperim/ScottDatasetsize/Scott100Percent/\"\n",
    "savepath = root_dir + \"insights/\"\n",
    "max_images = 200\n"
   ]
  },
  {
   "cell_type": "code",
   "execution_count": 3,
   "metadata": {},
   "outputs": [
    {
     "name": "stdout",
     "output_type": "stream",
     "text": [
      "Checking dimensions:\n",
      "Shape of data imported is: (40, 16, 128, 128, 3)\n",
      "Checking dimensions:\n",
      "Shape of data imported is: (40, 16, 128, 128, 3)\n",
      "Checking dimensions:\n",
      "Shape of data imported is: (40, 16, 128, 128, 3)\n",
      "Checking dimensions:\n",
      "Shape of data imported is: (40, 16, 128, 128, 3)\n",
      "(40, 16, 128, 128, 3)\n",
      "(40, 16, 128, 128, 3)\n",
      "The relative Error over the normalized dataset is: 1.1065398247383909  best ist close to zero\n"
     ]
    }
   ],
   "source": [
    "%run \"./InstantDL/instantdl/evaluation/Utils_data_evaluation.py\"\n",
    "prepare_data_for_evaluation(root_dir, max_images)"
   ]
  },
  {
   "cell_type": "code",
   "execution_count": 4,
   "metadata": {},
   "outputs": [
    {
     "name": "stdout",
     "output_type": "stream",
     "text": [
      "(40, 16, 128, 128, 3)\n",
      "(40, 16, 128, 128, 3)\n"
     ]
    }
   ],
   "source": [
    "prediction = np.load(root_dir + \"/insights/\" + \"prediction.npy\")\n",
    "groundtruth = np.load(root_dir + \"/insights/\" + \"groundtruth.npy\")\n",
    "abs_errormap_norm = np.load(root_dir + \"/insights/\" + \"abs_errormap.npy\")\n",
    "rel_errormap_norm = np.load(root_dir + \"/insights/\" + \"rel_errormap.npy\")\n",
    "\n",
    "print(np.shape(prediction))\n",
    "print(np.shape(groundtruth))"
   ]
  },
  {
   "cell_type": "code",
   "execution_count": 5,
   "metadata": {},
   "outputs": [],
   "source": [
    "›"
   ]
  },
  {
   "cell_type": "code",
   "execution_count": 6,
   "metadata": {
    "scrolled": true
   },
   "outputs": [],
   "source": [
    "from skimage.color import rgb2gray\n",
    "\n",
    "prediction_binary = copy.deepcopy(prediction)\n",
    "groundtruth_binary = copy.deepcopy(groundtruth)\n",
    "pred_mean = np.mean(prediction_binary)\n",
    "gt_mean = np.mean(groundtruth_binary)\n",
    "\n",
    "prediction_binary[prediction_binary <= pred_mean] = 0\n",
    "prediction_binary[prediction_binary > pred_mean] = 1\n",
    "groundtruth_binary[groundtruth_binary <= gt_mean] = 0\n",
    "groundtruth_binary[groundtruth_binary > gt_mean] = 1"
   ]
  },
  {
   "cell_type": "code",
   "execution_count": 7,
   "metadata": {},
   "outputs": [
    {
     "name": "stdout",
     "output_type": "stream",
     "text": [
      "0.0\n",
      "0.2893509\n",
      "1.0\n",
      "0\n",
      "0.3310696601867676\n",
      "1\n"
     ]
    }
   ],
   "source": [
    "print(np.min(prediction_binary))\n",
    "print(np.mean(prediction_binary))\n",
    "print(np.max(prediction_binary))\n",
    "\n",
    "print(np.min(groundtruth_binary))\n",
    "print(np.mean(groundtruth_binary))\n",
    "print(np.max(groundtruth_binary))"
   ]
  },
  {
   "cell_type": "code",
   "execution_count": 8,
   "metadata": {},
   "outputs": [],
   "source": [
    "def corrcoeff(a,b): \n",
    "    mean_a = np.mean(a)\n",
    "    mean_b = np.mean(b)\n",
    "    std_a = np.std(a)\n",
    "    std_b = np.std(b)\n",
    "    return np.mean((a - mean_a)*(b-mean_b))/(std_a*std_b)"
   ]
  },
  {
   "cell_type": "code",
   "execution_count": 9,
   "metadata": {},
   "outputs": [
    {
     "name": "stdout",
     "output_type": "stream",
     "text": [
      "-0.020129265078551492\n",
      "-0.01802567758360285\n"
     ]
    }
   ],
   "source": [
    "Pearson, Pearson_all = getPearson(prediction, groundtruth)\n",
    "print(Pearson)\n",
    "print(corrcoeff(prediction, groundtruth))\n",
    "data_to_plotPearson = [np.array(Pearson_all)]#[np.array(PearsonGFP), np.array(PearsonBF)] #[np.array(PearsonBoth), np.array(PearsonGFP), np.array(PearsonBF)]"
   ]
  },
  {
   "cell_type": "code",
   "execution_count": 10,
   "metadata": {},
   "outputs": [
    {
     "name": "stdout",
     "output_type": "stream",
     "text": [
      "[ 9.41866433e-02 -1.27455535e-01  9.03823299e-02 -1.22469547e-01\n",
      " -7.44693655e-02  5.83965586e-02 -1.05554948e-02 -2.03406991e-02\n",
      "  3.57643787e-02  3.87586077e-02 -7.31305716e-06  4.81161949e-03\n",
      "  5.98606274e-02 -1.22799262e-01  1.85597380e-01 -1.01251178e-01\n",
      " -1.25083371e-01 -2.62967368e-02 -3.43777012e-02  8.67629652e-03\n",
      " -1.99178310e-02 -5.82444517e-02 -1.16895154e-01 -9.50382916e-02\n",
      " -4.37428503e-02 -5.10651458e-02 -2.49528414e-02  1.04318936e-01\n",
      " -1.01064869e-02 -4.73614554e-02 -1.01106173e-01  5.11659218e-03\n",
      "  6.34117486e-02  1.38340452e-02 -1.21473775e-01 -4.34497422e-03\n",
      "  2.38848822e-02 -1.15909056e-02 -3.96787852e-02 -3.54846221e-02]\n"
     ]
    }
   ],
   "source": [
    "print(Pearson_all)"
   ]
  },
  {
   "cell_type": "code",
   "execution_count": 11,
   "metadata": {},
   "outputs": [],
   "source": [
    "groundtruth_norm = (groundtruth - np.min(groundtruth))/(np.max(groundtruth)-np.min(groundtruth))\n",
    "prediction_norm = (groundtruth - np.min(prediction))/(np.max(prediction)-np.min(prediction))\n",
    "rel_errormap_norm = np.abs(np.divide(abs_errormap_norm, groundtruth_norm, out=np.zeros_like(abs_errormap_norm), where=groundtruth_norm!=0))"
   ]
  },
  {
   "cell_type": "code",
   "execution_count": 12,
   "metadata": {},
   "outputs": [
    {
     "name": "stdout",
     "output_type": "stream",
     "text": [
      "1.3810861977011218e-08\n",
      "0.9968617707165827\n",
      "8.702595129486679e-05\n"
     ]
    }
   ],
   "source": [
    "abs_errormap_norm = (np.abs((prediction_binary-groundtruth_binary))/np.size(groundtruth_binary))\n",
    "print(np.mean(abs_errormap_norm))\n",
    "print(1-np.abs(rand(prediction_binary.flatten(), groundtruth_binary.flatten())))\n",
    "print(infoscore(prediction_binary.flatten(), groundtruth_binary.flatten()))"
   ]
  },
  {
   "cell_type": "code",
   "execution_count": 13,
   "metadata": {},
   "outputs": [
    {
     "name": "stdout",
     "output_type": "stream",
     "text": [
      "3.814697265625e-06 1\n",
      "0.3347491 1.0\n",
      "0.5064255935691587\n"
     ]
    }
   ],
   "source": [
    "#ROC AUC\n",
    "from sklearn.metrics import roc_curve, auc # roc curve tools\n",
    "groundtruth2 = (groundtruth-np.min(groundtruth))/(np.max(groundtruth)-np.min(groundtruth))\n",
    "prediction2 = (prediction-np.min(prediction))/(np.max(prediction)-np.min(prediction))\n",
    "\n",
    "ground_truth_labels = (groundtruth2.flatten()).astype(int) # we want to make them into vectors\n",
    "print(np.mean(ground_truth_labels),np.max(ground_truth_labels))\n",
    "print(np.mean(prediction2),np.max(prediction2))\n",
    "\n",
    "score_value = prediction2.flatten()# we want to make them into vectors\n",
    "fpr, tpr, _ = roc_curve(ground_truth_labels,score_value)\n",
    "roc_auc = auc(fpr,tpr)\n",
    "print(roc_auc)"
   ]
  },
  {
   "cell_type": "code",
   "execution_count": 14,
   "metadata": {},
   "outputs": [
    {
     "name": "stdout",
     "output_type": "stream",
     "text": [
      "31457280\n",
      "(40, 16, 128, 128, 3)\n",
      "Metriccs:\n",
      "The accuracy on the normalized dataset is:  0.9999999999999958\n",
      "The median relative error on the normalized dataset is:  364.3133166520712 %\n",
      "The mean absolute error on the normalized dataset is:  1.3810861977011218e-08\n",
      "The Pearson coefficient is:  -0.020129265078551492\n",
      "The Jaccard index is:  0.8237053642381591\n",
      "The AUC is: 0.493164559335009\n"
     ]
    }
   ],
   "source": [
    "from sklearn.metrics import mutual_info_score\n",
    "from sklearn.metrics import accuracy_score, adjusted_rand_score, auc, roc_auc_score\n",
    "\n",
    "print(np.size(groundtruth))\n",
    "print(np.shape(groundtruth))\n",
    "print(\"Metriccs:\")\n",
    "print(\"The accuracy on the normalized dataset is: \", 1 - np.mean(np.square(groundtruth_norm-prediction_norm))/(groundtruth_norm.size))\n",
    "print(\"The median relative error on the normalized dataset is: \", np.median(rel_errormap_norm)*100 , \"%\")\n",
    "print(\"The mean absolute error on the normalized dataset is: \", np.mean(abs_errormap_norm))\n",
    "print(\"The Pearson coefficient is: \", np.median(Pearson))\n",
    "print(\"The Jaccard index is: \", jaccard(prediction_binary.flatten(), groundtruth_binary.flatten()))\n",
    "print(\"The AUC is:\", roc_auc_score(prediction_binary.flatten(), groundtruth_binary.flatten()))\n",
    "#print(\"The Information score is: \", mutual_info_score(np.concatenate(np.concatenate(prediction_norm)), np.concatenate(np.concatenate(groundtruth_norm))))\n",
    "#print(\"The rand score is:\" , adjusted_rand_score(np.concatenate(np.concatenate(groundtruth_norm)), np.concatenate(np.concatenate(prediction_norm))))\n",
    "f = open(savepath + '/Error analysis.txt','w')\n",
    "f.write('\\n' + \"The median relative error on the normalized dataset is: \" + str(np.median(rel_errormap_norm)*100) + \" Prozent\")\n",
    "f.write('\\n' + \"The mean absolute error on the normalized dataset is: \" + str(np.mean(abs_errormap_norm)))\n",
    "f.write('\\n' + \"The Pearson coefficient is: \" + str(Pearson))\n",
    "f.close()"
   ]
  },
  {
   "cell_type": "code",
   "execution_count": null,
   "metadata": {},
   "outputs": [],
   "source": []
  },
  {
   "cell_type": "code",
   "execution_count": null,
   "metadata": {},
   "outputs": [],
   "source": []
  }
 ],
 "metadata": {
  "kernelspec": {
   "display_name": "Python 3",
   "language": "python",
   "name": "python3"
  },
  "language_info": {
   "codemirror_mode": {
    "name": "ipython",
    "version": 3
   },
   "file_extension": ".py",
   "mimetype": "text/x-python",
   "name": "python",
   "nbconvert_exporter": "python",
   "pygments_lexer": "ipython3",
   "version": "3.6.8rc1"
  }
 },
 "nbformat": 4,
 "nbformat_minor": 2
}
